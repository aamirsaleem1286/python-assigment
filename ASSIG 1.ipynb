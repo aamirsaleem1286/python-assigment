{
 "cells": [
  {
   "cell_type": "code",
   "execution_count": 10,
   "metadata": {},
   "outputs": [
    {
     "name": "stdout",
     "output_type": "stream",
     "text": [
      "select operation.\n",
      "1.add\n",
      "2.subtraction\n",
      "3. multiplication\n",
      "4.division\n",
      "Enter choixe(1/2/3/4)3\n",
      "enter first number:85\n",
      "enter second number:45\n",
      "85.0 45.0 = 3825.0\n"
     ]
    }
   ],
   "source": [
    "def add (y,z):\n",
    "    return y + z\n",
    "def subtraction (y,z):\n",
    "    return y-z\n",
    "def multiplication (y,z):\n",
    "    return y*z\n",
    "def division (y,z):\n",
    "    return(y/z)\n",
    "print(\"select operation.\")\n",
    "print(\"1.add\")\n",
    "print(\"2.subtraction\")\n",
    "print(\"3. multiplication\")\n",
    "print(\"4.division\")\n",
    "choice=input(\"Enter choixe(1/2/3/4)\")\n",
    "number1=float(input(\"enter first number:\"))\n",
    "number2=float(input(\"enter second number:\"))\n",
    "if choice=='1':\n",
    "    print(number1,number2,\"=\",add(number1,number2))\n",
    "elif choice=='2':\n",
    "    print(number1,number2,\"=\",subtraction(number1,number2))\n",
    "elif choice=='3':\n",
    "    print(number1,number2,\"=\",multiplication(number1,number2))    \n",
    "elif choice=='4':\n",
    "    print(number1,number2,\"=\",division(number1,number2))\n",
    "else:\n",
    "    print(\"invalid  error\")"
   ]
  },
  {
   "cell_type": "code",
   "execution_count": null,
   "metadata": {},
   "outputs": [],
   "source": [
    "# if statement\n",
    "a=30\n",
    "b=25\n",
    "c=5\n",
    "d=b+c\n",
    "if a ==d:\n",
    "    print(\"you are right\")\n",
    "else:\n",
    "    print(\"you are wrong\")\n",
    "      "
   ]
  },
  {
   "cell_type": "code",
   "execution_count": 17,
   "metadata": {},
   "outputs": [
    {
     "name": "stdout",
     "output_type": "stream",
     "text": [
      "second condition is applied\n"
     ]
    }
   ],
   "source": [
    "# if,or,and,elif statement\n",
    "\n",
    "a=85\n",
    "b=45\n",
    "c=35\n",
    "d=45\n",
    "e=35\n",
    "g=65\n",
    "if a == b or c==g : \n",
    "        print (\"first condition is applied\")\n",
    "elif b == d and c==e: \n",
    "        print (\"second condition is applied\")\n",
    "else:\n",
    "     (\"no condition is applied\")\n",
    "        "
   ]
  },
  {
   "cell_type": "code",
   "execution_count": 6,
   "metadata": {},
   "outputs": [
    {
     "name": "stdout",
     "output_type": "stream",
     "text": [
      "enter Islamiat your marks92\n",
      "enter URDU your marks95\n",
      "enter PHYSICS your marks85\n",
      "enter CHEMISTRY your marks84\n",
      "enter MATHS your marks98\n",
      "Aone grade\n"
     ]
    }
   ],
   "source": [
    "# marksheet\n",
    "a =int(input(\"enter Islamiat your marks\"))\n",
    "b =int(input(\"enter URDU your marks\"))\n",
    "c =int(input(\"enter PHYSICS your marks:\"))\n",
    "d=int(input(\"enter CHEMISTRY your marks:\"))\n",
    "e =int(input(\"enter MATHS your marks:\"))\n",
    "if a >=70 and b >=70 and c >=70 and d >=70 and e >=70:\n",
    "    print(\"Aone grade\")\n",
    "elif a >=60 and b >=60 and c >=60 and d >=60 and e >=60:\n",
    "    print(\"b grade\")\n",
    "elif a >=50 and b >=50 and c >=50 and d >=50 and e >=50:\n",
    "    print(\"c grade\")\n",
    "elif a >=40 and b >=40 and c >=40 and d >=40 and e >=40:\n",
    "    print(\"d grade\")\n",
    "\n",
    "else:\n",
    "    print(\"fail\")\n",
    "    \n",
    "    "
   ]
  }
 ],
 "metadata": {
  "kernelspec": {
   "display_name": "Python 3",
   "language": "python",
   "name": "python3"
  },
  "language_info": {
   "codemirror_mode": {
    "name": "ipython",
    "version": 3
   },
   "file_extension": ".py",
   "mimetype": "text/x-python",
   "name": "python",
   "nbconvert_exporter": "python",
   "pygments_lexer": "ipython3",
   "version": "3.7.6"
  }
 },
 "nbformat": 4,
 "nbformat_minor": 4
}
